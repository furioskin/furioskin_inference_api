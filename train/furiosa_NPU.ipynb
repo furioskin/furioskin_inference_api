{
 "cells": [
  {
   "cell_type": "code",
   "execution_count": 1,
   "id": "de1ccd83",
   "metadata": {},
   "outputs": [],
   "source": [
    "# SSDResNet34 \n",
    "from furiosa.models.vision import SSDResNet34\n",
    "from furiosa.runtime.sync import create_runner\n",
    "#import matplotlib.pyplot as plt\n",
    "#from PIL import Image, ImageDraw\n",
    "#from IPython.display import display\n",
    "import cv2\n",
    "import numpy as np"
   ]
  },
  {
   "cell_type": "code",
   "execution_count": 2,
   "id": "28193aa8",
   "metadata": {},
   "outputs": [],
   "source": [
    "def preprocess(img_path, new_shape=(640, 640)):\n",
    "    img = cv2.imread(img_path)\n",
    "\n",
    "    img, preproc_params = letterbox(img, new_shape, auto=False)\n",
    "\n",
    "    img = img.transpose((2, 0, 1))[::-1]\n",
    "    img = np.expand_dims(img, 0)\n",
    "    img = np.ascontiguousarray(img, dtype=np.float32) / 255.0\n",
    "    return img, preproc_params\n",
    "\n",
    "def letterbox(\n",
    "    img, new_shape, color=(114, 114, 114), auto=True, scaleup=True, stride=32\n",
    "):\n",
    "    h, w = img.shape[:2]\n",
    "\n",
    "    ratio = min(new_shape[0] / h, new_shape[1] / w)\n",
    "\n",
    "    if not scaleup:\n",
    "        ratio = min(ratio, 1.0)\n",
    "\n",
    "    new_unpad = int(round(ratio * w)), int(round(ratio * h))\n",
    "    dw, dh = (new_shape[1] - new_unpad[0], new_shape[0] - new_unpad[1])\n",
    "\n",
    "    dw /= 2\n",
    "    dh /= 2\n",
    "\n",
    "    if (w, h) != new_unpad:\n",
    "        interpolation = cv2.INTER_LINEAR if ratio > 1 else cv2.INTER_AREA\n",
    "        img = cv2.resize(img, new_unpad, interpolation=interpolation)\n",
    "\n",
    "    top, bottom = int(round(dh - 0.1)), int(round(dh + 0.1))\n",
    "    left, right = int(round(dw - 0.1)), int(round(dw + 0.1))\n",
    "\n",
    "    img = cv2.copyMakeBorder(\n",
    "        img, top, bottom, left, right, cv2.BORDER_CONSTANT, value=color\n",
    "    )\n",
    "    return img, (ratio, (dw, dh))\n"
   ]
  },
  {
   "cell_type": "code",
   "execution_count": 3,
   "id": "4d624306",
   "metadata": {
    "scrolled": true
   },
   "outputs": [
    {
     "ename": "FuriosaRuntimeError",
     "evalue": "runtime error: All NPU device is busy: Device warboy(1)*1 found but still in use",
     "output_type": "error",
     "traceback": [
      "\u001b[0;31m---------------------------------------------------------------------------\u001b[0m",
      "\u001b[0;31mFuriosaRuntimeError\u001b[0m                       Traceback (most recent call last)",
      "Cell \u001b[0;32mIn[3], line 7\u001b[0m\n\u001b[1;32m      3\u001b[0m images \u001b[38;5;241m=\u001b[39m [base_path\u001b[38;5;241m+\u001b[39m\u001b[38;5;124m'\u001b[39m\u001b[38;5;124mimages/coco/a10.png\u001b[39m\u001b[38;5;124m'\u001b[39m]\n\u001b[1;32m      5\u001b[0m ssd_resnet34 \u001b[38;5;241m=\u001b[39m SSDResNet34()\n\u001b[0;32m----> 7\u001b[0m \u001b[38;5;28;01mwith\u001b[39;00m \u001b[43mcreate_runner\u001b[49m\u001b[43m(\u001b[49m\u001b[43mssd_resnet34\u001b[49m\u001b[38;5;241;43m.\u001b[39;49m\u001b[43mmodel_source\u001b[49m\u001b[43m(\u001b[49m\u001b[43mnum_pe\u001b[49m\u001b[38;5;241;43m=\u001b[39;49m\u001b[38;5;241;43m1\u001b[39;49m\u001b[43m)\u001b[49m\u001b[43m,\u001b[49m\u001b[43m \u001b[49m\u001b[43mdevice\u001b[49m\u001b[38;5;241;43m=\u001b[39;49m\u001b[38;5;124;43m'\u001b[39;49m\u001b[38;5;124;43mwarboy(1)*1\u001b[39;49m\u001b[38;5;124;43m'\u001b[39;49m\u001b[43m)\u001b[49m \u001b[38;5;28;01mas\u001b[39;00m runner1:\n\u001b[1;32m      8\u001b[0m     \u001b[38;5;28;01mwith\u001b[39;00m create_runner(\u001b[38;5;124m\"\u001b[39m\u001b[38;5;124mresnet_retrained_model_quantized_percentile.onnx\u001b[39m\u001b[38;5;124m\"\u001b[39m, device\u001b[38;5;241m=\u001b[39m\u001b[38;5;124m'\u001b[39m\u001b[38;5;124mwarboy(1)*1\u001b[39m\u001b[38;5;124m'\u001b[39m) \u001b[38;5;28;01mas\u001b[39;00m runner2:\n\u001b[1;32m      9\u001b[0m         \u001b[38;5;66;03m# object detection\u001b[39;00m\n\u001b[1;32m     10\u001b[0m         input1, contexts \u001b[38;5;241m=\u001b[39m ssd_resnet34\u001b[38;5;241m.\u001b[39mpreprocess(images[\u001b[38;5;241m0\u001b[39m])\n",
      "\u001b[0;31mFuriosaRuntimeError\u001b[0m: runtime error: All NPU device is busy: Device warboy(1)*1 found but still in use"
     ]
    }
   ],
   "source": [
    "base_path = ''\n",
    "\n",
    "images = [base_path+'images/coco/a10.png']\n",
    "\n",
    "ssd_resnet34 = SSDResNet34()\n",
    "\n",
    "with create_runner(ssd_resnet34.model_source(num_pe=1), device='warboy(1)*1') as runner1:\n",
    "    with create_runner(\"resnet_retrained_model_quantized_percentile.onnx\", device='warboy(1)*1') as runner2:\n",
    "        # object detection\n",
    "        input1, contexts = ssd_resnet34.preprocess(images[0])\n",
    "        output1 = runner1.run(input1)\n",
    "        \n",
    "        result = ssd_resnet34.postprocess(output1, contexts)\n",
    "        \n",
    "        # object classification\n",
    "        if len(result) > 0:\n",
    "            input2, contexts = preprocess(images[0])\n",
    "            outputs = runner2.run(input2)\n",
    "            max_index = np.argmax(outputs)\n",
    "            print('label', max_index)\n",
    "            \n",
    "        else :\n",
    "            print('object non detected!!')\n",
    "            print(\"{'label' : -1}\")"
   ]
  },
  {
   "cell_type": "code",
   "execution_count": null,
   "id": "d78d79fb",
   "metadata": {},
   "outputs": [],
   "source": []
  }
 ],
 "metadata": {
  "kernelspec": {
   "display_name": "Python 3 (ipykernel)",
   "language": "python",
   "name": "python3"
  },
  "language_info": {
   "codemirror_mode": {
    "name": "ipython",
    "version": 3
   },
   "file_extension": ".py",
   "mimetype": "text/x-python",
   "name": "python",
   "nbconvert_exporter": "python",
   "pygments_lexer": "ipython3",
   "version": "3.10.13"
  }
 },
 "nbformat": 4,
 "nbformat_minor": 5
}
