{
 "cells": [
  {
   "cell_type": "code",
   "execution_count": 1,
   "id": "f1916cf9",
   "metadata": {},
   "outputs": [],
   "source": [
    "import torch\n",
    "import torchvision\n",
    "import torch.nn as nn\n",
    "import torchvision.transforms as transforms\n",
    "from torchvision.datasets import ImageFolder\n",
    "from torch.utils.data import DataLoader\n",
    "from torchvision import models\n",
    "from PIL import Image\n",
    "import pandas as pd"
   ]
  },
  {
   "cell_type": "code",
   "execution_count": null,
   "id": "7860187d",
   "metadata": {},
   "outputs": [],
   "source": [
    "transform = transforms.Compose([\n",
    "    transforms.RandomHorizontalFlip(),  # 50% 확률로 이미지를 수평으로 뒤집음\n",
    "    transforms.RandomVerticalFlip(),  # 50% 확률로 이미지를 수직으로 뒤집음\n",
    "    transforms.RandomRotation(10),  # -10에서 10도 사이의 각도로 이미지를 회전\n",
    "    transforms.ToTensor(),  # PIL 이미지나 numpy.ndarray를 pytorch의 텐서로 변환\n",
    "    transforms.Normalize((0.5, 0.5, 0.5), (0.5, 0.5, 0.5))  # RGB 채널별로 평균과 표준편차를 이용한 정규화\n",
    "])"
   ]
  },
  {
   "cell_type": "code",
   "execution_count": 17,
   "id": "77d15519",
   "metadata": {},
   "outputs": [
    {
     "name": "stderr",
     "output_type": "stream",
     "text": [
      "C:\\Users\\aims01\\anaconda3\\envs\\metamatching\\lib\\site-packages\\torchvision\\models\\_utils.py:208: UserWarning: The parameter 'pretrained' is deprecated since 0.13 and may be removed in the future, please use 'weights' instead.\n",
      "  warnings.warn(\n",
      "C:\\Users\\aims01\\anaconda3\\envs\\metamatching\\lib\\site-packages\\torchvision\\models\\_utils.py:223: UserWarning: Arguments other than a weight enum or `None` for 'weights' are deprecated since 0.13 and may be removed in the future. The current behavior is equivalent to passing `weights=ResNet50_Weights.IMAGENET1K_V1`. You can also use `weights=ResNet50_Weights.DEFAULT` to get the most up-to-date weights.\n",
      "  warnings.warn(msg)\n"
     ]
    }
   ],
   "source": [
    "# 데이터 전처리\n",
    "transform = transforms.Compose([\n",
    "    transforms.Resize((224, 224)),\n",
    "    transforms.RandomHorizontalFlip(),  # 50% 확률로 이미지를 수평으로 뒤집음\n",
    "    transforms.RandomVerticalFlip(),  # 50% 확률로 이미지를 수직으로 뒤집음\n",
    "    transforms.RandomRotation(10), \n",
    "    transforms.ToTensor(),\n",
    "    transforms.Normalize(mean=[0.485, 0.456, 0.406], std=[0.229, 0.224, 0.225]), \n",
    "])\n",
    "\n",
    "# ResNet 모델 사용\n",
    "model = models.resnet50(pretrained=True)\n",
    "num_ftrs = model.fc.in_features\n",
    "model.fc = nn.Linear(num_ftrs, 3)"
   ]
  },
  {
   "cell_type": "code",
   "execution_count": 18,
   "id": "828e6935",
   "metadata": {
    "scrolled": true
   },
   "outputs": [
    {
     "name": "stdout",
     "output_type": "stream",
     "text": [
      "0\n",
      "Epoch 1/100, Loss: 0.2728160321712494\n",
      "Epoch 2/100, Loss: 0.5122842788696289\n",
      "Epoch 3/100, Loss: 0.6162834167480469\n",
      "Epoch 4/100, Loss: 1.2450895309448242\n",
      "Epoch 5/100, Loss: 0.39911267161369324\n",
      "Epoch 6/100, Loss: 1.0024333000183105\n",
      "6\n",
      "Epoch 7/100, Loss: 0.22754859924316406\n",
      "Epoch 8/100, Loss: 0.560637891292572\n",
      "8\n",
      "Epoch 9/100, Loss: 0.09131034463644028\n",
      "Epoch 10/100, Loss: 0.4976396858692169\n",
      "Epoch 11/100, Loss: 0.22995133697986603\n",
      "Epoch 12/100, Loss: 0.7342294454574585\n",
      "Epoch 13/100, Loss: 0.4395310878753662\n",
      "Epoch 14/100, Loss: 0.28216955065727234\n",
      "Epoch 15/100, Loss: 0.30795592069625854\n",
      "Epoch 16/100, Loss: 0.5097429752349854\n",
      "Epoch 17/100, Loss: 0.17793108522891998\n",
      "Epoch 18/100, Loss: 0.17655906081199646\n",
      "Epoch 19/100, Loss: 0.1465073525905609\n",
      "Epoch 20/100, Loss: 1.7558902502059937\n",
      "20\n",
      "Epoch 21/100, Loss: 0.042315009981393814\n",
      "Epoch 22/100, Loss: 0.5798705816268921\n",
      "Epoch 23/100, Loss: 0.9073683023452759\n",
      "Epoch 24/100, Loss: 0.4546985328197479\n",
      "Epoch 25/100, Loss: 0.20523792505264282\n",
      "Epoch 26/100, Loss: 0.5749600529670715\n",
      "Epoch 27/100, Loss: 0.11504534631967545\n",
      "Epoch 28/100, Loss: 0.0676162913441658\n",
      "Epoch 29/100, Loss: 2.056180000305176\n",
      "Epoch 30/100, Loss: 0.31699833273887634\n",
      "Epoch 31/100, Loss: 0.822093665599823\n",
      "Epoch 32/100, Loss: 4.913196086883545\n",
      "Epoch 33/100, Loss: 0.24508097767829895\n",
      "Epoch 34/100, Loss: 0.1674708127975464\n",
      "Epoch 35/100, Loss: 0.16308170557022095\n",
      "Epoch 36/100, Loss: 0.860767126083374\n",
      "Epoch 37/100, Loss: 0.32654237747192383\n",
      "Epoch 38/100, Loss: 1.0321202278137207\n",
      "Epoch 39/100, Loss: 0.37841641902923584\n",
      "Epoch 40/100, Loss: 0.3152901232242584\n",
      "Epoch 41/100, Loss: 0.461128830909729\n",
      "Epoch 42/100, Loss: 0.4888210892677307\n",
      "Epoch 43/100, Loss: 0.049192532896995544\n",
      "Epoch 44/100, Loss: 2.8752245903015137\n",
      "Epoch 45/100, Loss: 0.9629285335540771\n",
      "Epoch 46/100, Loss: 0.42266660928726196\n",
      "46\n",
      "Epoch 47/100, Loss: 0.032147616147994995\n",
      "Epoch 48/100, Loss: 1.208256721496582\n",
      "Epoch 49/100, Loss: 0.17465414106845856\n",
      "49\n",
      "Epoch 50/100, Loss: 0.02506300061941147\n",
      "Epoch 51/100, Loss: 0.8619635105133057\n",
      "Epoch 52/100, Loss: 0.7722193002700806\n",
      "Epoch 53/100, Loss: 5.520671844482422\n",
      "Epoch 54/100, Loss: 0.9176151752471924\n",
      "Epoch 55/100, Loss: 0.036086197942495346\n",
      "Epoch 56/100, Loss: 0.9172850847244263\n",
      "Epoch 57/100, Loss: 0.635285496711731\n",
      "Epoch 58/100, Loss: 0.08829869329929352\n",
      "Epoch 59/100, Loss: 0.13080111145973206\n",
      "Epoch 60/100, Loss: 2.2799952030181885\n",
      "60\n",
      "Epoch 61/100, Loss: 0.020301513373851776\n",
      "Epoch 62/100, Loss: 2.1235790252685547\n",
      "Epoch 63/100, Loss: 0.11523070186376572\n",
      "Epoch 64/100, Loss: 2.3264293670654297\n",
      "Epoch 65/100, Loss: 0.16064155101776123\n",
      "Epoch 66/100, Loss: 0.07856322079896927\n",
      "Epoch 67/100, Loss: 0.0684930831193924\n",
      "Epoch 68/100, Loss: 0.10223103314638138\n",
      "Epoch 69/100, Loss: 2.049255609512329\n",
      "Epoch 70/100, Loss: 1.8013355731964111\n",
      "Epoch 71/100, Loss: 0.15049880743026733\n",
      "Epoch 72/100, Loss: 0.7430292367935181\n",
      "Epoch 73/100, Loss: 0.35779672861099243\n",
      "Epoch 74/100, Loss: 0.31571003794670105\n",
      "Epoch 75/100, Loss: 0.9579293727874756\n",
      "Epoch 76/100, Loss: 0.025529630482196808\n",
      "Epoch 77/100, Loss: 0.15659105777740479\n",
      "Epoch 78/100, Loss: 0.1581280529499054\n",
      "78\n",
      "Epoch 79/100, Loss: 0.0061937496066093445\n",
      "79\n",
      "Epoch 80/100, Loss: 0.003973111044615507\n",
      "Epoch 81/100, Loss: 0.8457529544830322\n",
      "Epoch 82/100, Loss: 0.014161151833832264\n",
      "Epoch 83/100, Loss: 0.2019265592098236\n",
      "Epoch 84/100, Loss: 1.6055158376693726\n",
      "Epoch 85/100, Loss: 0.008387338370084763\n",
      "Epoch 86/100, Loss: 0.08399518579244614\n",
      "Epoch 87/100, Loss: 3.1073944568634033\n",
      "Epoch 88/100, Loss: 0.5231286883354187\n",
      "Epoch 89/100, Loss: 0.46766290068626404\n",
      "Epoch 90/100, Loss: 1.03737211227417\n",
      "Epoch 91/100, Loss: 1.9545142650604248\n",
      "Epoch 92/100, Loss: 1.1399718523025513\n",
      "Epoch 93/100, Loss: 1.5453453063964844\n",
      "Epoch 94/100, Loss: 0.09360017627477646\n",
      "Epoch 95/100, Loss: 0.1562804877758026\n",
      "Epoch 96/100, Loss: 0.49240729212760925\n",
      "Epoch 97/100, Loss: 0.014936656691133976\n",
      "Epoch 98/100, Loss: 0.06841842830181122\n",
      "Epoch 99/100, Loss: 0.45270034670829773\n",
      "Epoch 100/100, Loss: 0.05276559293270111\n"
     ]
    },
    {
     "data": {
      "text/plain": [
       "\"\\nwith torch.no_grad():\\n    for i in range(len(submission)):\\n        img_path = submission.loc[i, 'path']\\n        img = Image.open(img_path).convert('RGB')\\n        img = transform(img).unsqueeze(0).to(device)\\n\\n        outputs = model(img)\\n        _, predicted = torch.max(outputs.data, 1)\\n        \\n        # 모델이 각각의 동물로 예측하면 해당 동물 이름으로 분류\\n        if predicted.item() == 0:  # 고양이로 예측한 경우\\n            submission.loc[i, 'label'] = 'cat'\\n        elif predicted.item() == 1:  # 개로 예측한 경우\\n            submission.loc[i, 'label'] = 'dog'\\n        else:  # 호랑이로 예측한 경우\\n            submission.loc[i, 'label'] = 'tiger'\\n\\n# 예측 결과를 submission.csv에 저장\\nsubmission.to_csv('submission.csv', index=False)\\n\""
      ]
     },
     "execution_count": 18,
     "metadata": {},
     "output_type": "execute_result"
    }
   ],
   "source": [
    "\n",
    "# 데이터 로딩\n",
    "train_dataset = ImageFolder(root='train', transform=transform)\n",
    "train_loader = DataLoader(train_dataset, batch_size=32, shuffle=True)\n",
    "\n",
    "# ResNet 모델 사용\n",
    "# 클래스가 3개이므로 출력 뉴런의 수를 3개로 설정\n",
    "best_loss = float('inf')  # 초기 최소 loss를 무한대로 설정\n",
    "\n",
    "# GPU 사용 설정\n",
    "device = torch.device('cuda:0' if torch.cuda.is_available() else 'cpu')\n",
    "model = model.to(device)\n",
    "\n",
    "# 손실함수 및 옵티마이저 설정\n",
    "criterion = nn.CrossEntropyLoss()\n",
    "optimizer = torch.optim.Adam(model.parameters(), lr=0.001)\n",
    "# 학습\n",
    "num_epochs = 100\n",
    "for epoch in range(num_epochs):\n",
    "    for i, (images, labels) in enumerate(train_loader):\n",
    "        images = images.to(device)\n",
    "        labels = labels.to(device)\n",
    "        \n",
    "        outputs = model(images)\n",
    "        loss = criterion(outputs, labels)\n",
    "\n",
    "        optimizer.zero_grad()\n",
    "        loss.backward()\n",
    "        optimizer.step()\n",
    "    if loss.item() < best_loss:\n",
    "        best_loss = loss.item()\n",
    "        print(epoch)\n",
    "        torch.save(model.state_dict(), 'best_model_resnet_retrained_norm.pth')\n",
    "    print(f'Epoch {epoch+1}/{num_epochs}, Loss: {loss.item()}')"
   ]
  },
  {
   "cell_type": "code",
   "execution_count": 22,
   "id": "faa1aa03",
   "metadata": {},
   "outputs": [],
   "source": [
    "dummy_input = torch.randn(1, 3, 640, 640).to(device)  # 모델의 입력 형태에 맞는 더미 데이터 생성\n",
    "torch.onnx.export(model, dummy_input, 'resnet_retrained_model_augment_norm.onnx', opset_version=13)"
   ]
  },
  {
   "cell_type": "code",
   "execution_count": null,
   "id": "c8f6740c",
   "metadata": {},
   "outputs": [],
   "source": []
  },
  {
   "cell_type": "code",
   "execution_count": null,
   "id": "9d025506",
   "metadata": {},
   "outputs": [],
   "source": []
  },
  {
   "cell_type": "code",
   "execution_count": null,
   "id": "60c82d8d",
   "metadata": {},
   "outputs": [],
   "source": []
  },
  {
   "cell_type": "code",
   "execution_count": null,
   "id": "64d524f2",
   "metadata": {},
   "outputs": [],
   "source": []
  }
 ],
 "metadata": {
  "kernelspec": {
   "display_name": "Python 3 (ipykernel)",
   "language": "python",
   "name": "python3"
  },
  "language_info": {
   "codemirror_mode": {
    "name": "ipython",
    "version": 3
   },
   "file_extension": ".py",
   "mimetype": "text/x-python",
   "name": "python",
   "nbconvert_exporter": "python",
   "pygments_lexer": "ipython3",
   "version": "3.10.13"
  }
 },
 "nbformat": 4,
 "nbformat_minor": 5
}
